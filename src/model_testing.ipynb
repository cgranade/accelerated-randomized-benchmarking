{
 "metadata": {
  "name": ""
 },
 "nbformat": 3,
 "nbformat_minor": 0,
 "worksheets": [
  {
   "cells": [
    {
     "cell_type": "heading",
     "level": 1,
     "metadata": {},
     "source": [
      "Accelerated Randomized Benchmarking: Supplemental Material"
     ]
    },
    {
     "cell_type": "markdown",
     "metadata": {},
     "source": [
      "**Christopher Granade, Christopher Ferrie and D. G. Cory**"
     ]
    },
    {
     "cell_type": "markdown",
     "metadata": {},
     "source": [
      "[http://www.cgranade.com/research/arb/](http://www.cgranade.com/research/arb/)"
     ]
    },
    {
     "cell_type": "heading",
     "level": 2,
     "metadata": {},
     "source": [
      "Introduction"
     ]
    },
    {
     "cell_type": "markdown",
     "metadata": {},
     "source": [
      "In this Supplemental Material, we provide and document the Python-based implementation of our results.\n",
      "All of the figures and tables in the main body of our work are generated from the code provided here."
     ]
    },
    {
     "cell_type": "heading",
     "level": 2,
     "metadata": {},
     "source": [
      "Preamble"
     ]
    },
    {
     "cell_type": "markdown",
     "metadata": {},
     "source": [
      "Before jumping into the code, there's a few housekeeping things to take care of. The main bulk of this notebook continues below.\n",
      "\n",
      "First, we turn on the ``division`` feature, as is recommended for using Python 2.x with scientific code."
     ]
    },
    {
     "cell_type": "code",
     "collapsed": false,
     "input": [
      "from __future__ import division"
     ],
     "language": "python",
     "metadata": {},
     "outputs": [],
     "prompt_number": 1
    },
    {
     "cell_type": "markdown",
     "metadata": {},
     "source": [
      "Next, we enable plotting support, using ``inline`` to make all of the plots load inside the notebook."
     ]
    },
    {
     "cell_type": "code",
     "collapsed": false,
     "input": [
      "%pylab inline"
     ],
     "language": "python",
     "metadata": {},
     "outputs": [
      {
       "output_type": "stream",
       "stream": "stdout",
       "text": [
        "Populating the interactive namespace from numpy and matplotlib\n"
       ]
      }
     ],
     "prompt_number": 2
    },
    {
     "cell_type": "markdown",
     "metadata": {},
     "source": [
      "We'll want to set some sensible defaults for matplotlib, too, that are nice for making printed figures."
     ]
    },
    {
     "cell_type": "code",
     "collapsed": false,
     "input": [
      "rcParams['axes.labelsize'] = 20\n",
      "rcParams['axes.titlesize'] = 22\n",
      "rcParams['legend.fontsize'] = 18\n",
      "rcParams['xtick.labelsize'] = 14\n",
      "rcParams['ytick.labelsize'] = 14\n",
      "rcParams['lines.linewidth'] = 1.5"
     ],
     "language": "python",
     "metadata": {},
     "outputs": [],
     "prompt_number": 3
    },
    {
     "cell_type": "markdown",
     "metadata": {},
     "source": [
      "All that's left is to import a few things. First, we import a few tools from SciPy:"
     ]
    },
    {
     "cell_type": "code",
     "collapsed": false,
     "input": [
      "from scipy.linalg import inv, eig, sqrtm\n",
      "from scipy.optimize import curve_fit, minimize\n",
      "from scipy.io import loadmat"
     ],
     "language": "python",
     "metadata": {},
     "outputs": [],
     "prompt_number": 4
    },
    {
     "cell_type": "markdown",
     "metadata": {},
     "source": [
      "Next, we import IPython's rich display support, so that we can generate and display $\\LaTeX$ and Javascript directly in the notebook."
     ]
    },
    {
     "cell_type": "code",
     "collapsed": false,
     "input": [
      "from IPython.display import display, Latex, HTML, Javascript, clear_output"
     ],
     "language": "python",
     "metadata": {},
     "outputs": [],
     "prompt_number": 5
    },
    {
     "cell_type": "markdown",
     "metadata": {},
     "source": [
      "Later, we'll need access to a few of Python's standard libraries in order manage paths when we load gatesets."
     ]
    },
    {
     "cell_type": "code",
     "collapsed": false,
     "input": [
      "import os\n",
      "import glob\n",
      "import re"
     ],
     "language": "python",
     "metadata": {},
     "outputs": [],
     "prompt_number": 6
    },
    {
     "cell_type": "markdown",
     "metadata": {},
     "source": [
      "Finally, we import from [QInfer](http://python-qinfer.readthedocs.org/en/latest/), our library for working with sequential Monte Carlo."
     ]
    },
    {
     "cell_type": "code",
     "collapsed": false,
     "input": [
      "from qinfer.rb import RandomizedBenchmarkingModel, p, F\n",
      "from qinfer.smc import SMCUpdater, SMCUpdaterBCRB\n",
      "from qinfer.resamplers import LiuWestResampler\n",
      "from qinfer.derived_models import BinomialModel, DifferentiableBinomialModel\n",
      "from qinfer.distributions import (\n",
      "    ConstantDistribution, ProductDistribution, UniformDistribution, PostselectedDistribution, MultivariateNormalDistribution\n",
      ")"
     ],
     "language": "python",
     "metadata": {},
     "outputs": [],
     "prompt_number": 7
    },
    {
     "cell_type": "markdown",
     "metadata": {},
     "source": [
      "It will also be useful to have a little function that a dictionary into a NumPy array, so we don't have to work quite so hard at it."
     ]
    },
    {
     "cell_type": "code",
     "collapsed": false,
     "input": [
      "def set_fields(arr, ix, fields):\n",
      "    for key, val in fields.iteritems():\n",
      "        if isinstance(val, np.ndarray) and len(val.shape) > 0:\n",
      "            arr[ix][key][:] = val[:]\n",
      "        else:\n",
      "            arr[ix][key] = val"
     ],
     "language": "python",
     "metadata": {},
     "outputs": [],
     "prompt_number": 8
    },
    {
     "cell_type": "markdown",
     "metadata": {},
     "source": [
      "To consolidate how figures are saved, we define a common folder for figure storage. We wrap ``savefig`` to save to that folder and in multiple formats."
     ]
    },
    {
     "cell_type": "code",
     "collapsed": false,
     "input": [
      "FIGURES_DIR = os.path.abspath(\"../figures/\")\n",
      "if not os.path.exists(FIGURES_DIR):\n",
      "    os.mkdir(FIGURES_DIR)\n",
      "    \n",
      "print \"Figures will be stored to {}.\".format(FIGURES_DIR)\n",
      "\n",
      "_savefig = savefig\n",
      "def savefig(name):\n",
      "    for fmt in ('pdf', 'svg', 'png'):\n",
      "        _savefig(os.path.join(FIGURES_DIR, \"{}.{}\".format(name, fmt)), format=fmt, bbox_inches='tight')"
     ],
     "language": "python",
     "metadata": {},
     "outputs": [
      {
       "output_type": "stream",
       "stream": "stdout",
       "text": [
        "Figures will be stored to /home/cgranade/Dropbox/research/accelerated-randomized-benchmarking/figures.\n"
       ]
      }
     ],
     "prompt_number": 9
    },
    {
     "cell_type": "markdown",
     "metadata": {},
     "source": [
      "Since some of the code here takes a while to run, it's helpful to make a small progress bar."
     ]
    },
    {
     "cell_type": "code",
     "collapsed": false,
     "input": [
      "import uuid\n",
      "\n",
      "class ProgressBar(object):\n",
      "    def __init__(self):\n",
      "        self._divid = \"div-{}\".format(uuid.uuid4())\n",
      "        self._value = 0\n",
      "\n",
      "    def __del__(self):\n",
      "        self.hide()\n",
      "        \n",
      "    def hide(self):\n",
      "        display(Javascript('$(\"#{}\").hide()'.format(self._divid)))\n",
      "        \n",
      "    @property\n",
      "    def html(self):\n",
      "        return \"\"\"\n",
      "            <div id=\"{}\"></div>\n",
      "        \"\"\".format(self._divid)\n",
      "        \n",
      "    @property\n",
      "    def value(self):\n",
      "        return self._value\n",
      "    @value.setter\n",
      "    def value(self, newval):\n",
      "        self._value = newval\n",
      "        self.refresh()\n",
      "        \n",
      "    def refresh(self):\n",
      "        display(Javascript('$(\"#{}\").progressbar({{value: {}}})'.format(self._divid, self._value)))\n",
      "        \n",
      "    def show(self):\n",
      "        display(HTML(self.html))\n",
      "        self.refresh()"
     ],
     "language": "python",
     "metadata": {},
     "outputs": [],
     "prompt_number": 10
    },
    {
     "cell_type": "markdown",
     "metadata": {},
     "source": [
      "There's a few non-critical warnings that come up in more recent versions of NumPy, and so we disable those here to prevent excess output from being printed."
     ]
    },
    {
     "cell_type": "code",
     "collapsed": false,
     "input": [
      "import warnings\n",
      "warnings.simplefilter('ignore', DeprecationWarning)"
     ],
     "language": "python",
     "metadata": {},
     "outputs": [],
     "prompt_number": 11
    },
    {
     "cell_type": "markdown",
     "metadata": {},
     "source": [
      "Finally, we declare a few LaTeX commands. These don't show up when the notebook is rendered, but you can see them by editing this cell.\n",
      "$\n",
      "    \\newcommand{\\bra}[1]{\\left\\langle#1\\right|}\n",
      "    \\newcommand{\\ket}[1]{\\left|#1\\right\\rangle}\n",
      "$"
     ]
    },
    {
     "cell_type": "heading",
     "level": 2,
     "metadata": {},
     "source": [
      "Model Setup"
     ]
    },
    {
     "cell_type": "markdown",
     "metadata": {},
     "source": [
      "To generate and analyze benchmarking data, we'll need the likelihood model defined in ``benchmarking_models.py``. Since we'll be considering batches over the underlying two-outcome experiment described in the main text, we'll wrap the randomized benchmarking models in ``DifferentiableBinomialModel`` instances, representing binomial samples over Bernoulli data in a way that allows us to take derivatives\n",
      "of the likelihood function."
     ]
    },
    {
     "cell_type": "code",
     "collapsed": false,
     "input": [
      "import benchmarking_models as bm"
     ],
     "language": "python",
     "metadata": {},
     "outputs": [],
     "prompt_number": 12
    },
    {
     "cell_type": "code",
     "collapsed": false,
     "input": [
      "model = DifferentiableBinomialModel(RandomizedBenchmarkingModel(order=0))\n",
      "il_model = DifferentiableBinomialModel(RandomizedBenchmarkingModel(interleaved=True, order=0))"
     ],
     "language": "python",
     "metadata": {},
     "outputs": [],
     "prompt_number": 13
    },
    {
     "cell_type": "markdown",
     "metadata": {},
     "source": [
      "Let's plot a \"real\" signal to test that our models are at least somewhat reasonable. For our test signals, we will plot $\\hat{F}_g(m)$ for $m$ ranging in steps of 10 up to 400. For each sequence length, we simulate $K = 10\\,000$ data points."
     ]
    },
    {
     "cell_type": "code",
     "collapsed": false,
     "input": [
      "ms = np.arange(0, 400, 10)\n",
      "\n",
      "expparams = np.empty(ms.shape, dtype=model.expparams_dtype)\n",
      "expparams['m'] = ms\n",
      "expparams['n_meas'] = 10000\n",
      "\n",
      "true_model = np.array([[0.9994, 0.5, 0.5], [0.9998, 0.5, 0.5]])\n",
      "\n",
      "example_signal = model.simulate_experiment(true_model, expparams) / expparams['n_meas']"
     ],
     "language": "python",
     "metadata": {},
     "outputs": [],
     "prompt_number": 14
    },
    {
     "cell_type": "code",
     "collapsed": false,
     "input": [
      "plot(ms, example_signal[0, 0], 'k:', label=r'$p = {}$'.format(true_model[0, 0]))\n",
      "plot(ms, example_signal[0, 1], 'k-', label=r'$p = {}$'.format(true_model[1, 0]))\n",
      "xlabel('$m$')\n",
      "ylabel(r'$\\hat{F}_g(m)$')\n",
      "legend(loc='best')\n",
      "\n",
      "savefig('ex-signal-noninterleaved')"
     ],
     "language": "python",
     "metadata": {},
     "outputs": [
      {
       "metadata": {},
       "output_type": "display_data",
       "png": "[encoded data removed]",
       "text": [
        "<matplotlib.figure.Figure at 0x7f35bdb2fb90>"
       ]
      }
     ],
     "prompt_number": 15
    },
    {
     "cell_type": "markdown",
     "metadata": {},
     "source": [
      "We will also want to test that the interleaved model gives reasonable signals."
     ]
    },
    {
     "cell_type": "code",
     "collapsed": false,
     "input": [
      "ms = np.arange(0, 400, 10)\n",
      "expparams = np.empty(ms.shape, dtype=il_model.expparams_dtype)\n",
      "expparams['m'] = ms\n",
      "expparams['n_meas'] = 10000\n",
      "expparams = np.repeat(expparams, 2)\n",
      "\n",
      "# Make the first half of the data the reference.\n",
      "expparams['reference'][:len(expparams)//2] = True\n",
      "\n",
      "# For the interleaved signals, m is doubled.\n",
      "expparams['reference'][len(expparams)//2:] = False\n",
      "expparams['m'][len(expparams)//2:] *= 2\n",
      "\n",
      "true_model = np.array([[0.99994, 0.99999, 0.5, 0.5], [0.9999, 0.99999, 0.5, 0.5]])\n",
      "example_il_signal = il_model.simulate_experiment(true_model, expparams) / expparams['n_meas']"
     ],
     "language": "python",
     "metadata": {},
     "outputs": [],
     "prompt_number": 16
    },
    {
     "cell_type": "code",
     "collapsed": false,
     "input": [
      "ylim((0.965, 1.001))\n",
      "plot(ms, example_il_signal[0, 0, :len(expparams)/2], 'k:', label='Reference')\n",
      "plot(ms, example_il_signal[0, 0, len(expparams)/2:], 'k-', label='Interleaved')\n",
      "legend(loc='lower left')\n",
      "\n",
      "xlabel('$m$')\n",
      "ylabel(r'$\\hat{F}_g(m)$')\n",
      "\n",
      "savefig('ex-signal-interleaved')"
     ],
     "language": "python",
     "metadata": {},
     "outputs": [
      {
       "metadata": {},
       "output_type": "display_data",
       "png": "[encoded data removed]",
       "text": [
        "<matplotlib.figure.Figure at 0x3a2b4d0>"
       ]
      }
     ],
     "prompt_number": 17
    },
    {
     "cell_type": "heading",
     "level": 2,
     "metadata": {},
     "source": [
      "Fisher Information Calculations"
     ]
    },
    {
     "cell_type": "markdown",
     "metadata": {},
     "source": [
      "For a given set of parameters, these functions numerically compute the Fisher information matrix, invert it and take the square root and finally return the element which corresponds to a lower bound on $p$ and $\\tilde p$ for the non-interleaved and interleaved models, respectively."
     ]
    },
    {
     "cell_type": "code",
     "collapsed": false,
     "input": [
      "def achievable_non_interleaved(m_max, K, p, A, B):\n",
      "    ms = np.arange(m_max)\n",
      "    model = DifferentiableBinomialModel(RandomizedBenchmarkingModel())\n",
      "    \n",
      "    expparams = np.empty(ms.shape, dtype=model.expparams_dtype)\n",
      "    expparams['m'] = ms\n",
      "    expparams['n_meas'] = K\n",
      "    \n",
      "    true_model = np.array([[p, A, B]])\n",
      "    \n",
      "    fi = np.sum(model.fisher_information(true_model, expparams), axis=-1)[:, :, 0]\n",
      "    \n",
      "    return sqrtm(inv(fi))[0, 0]"
     ],
     "language": "python",
     "metadata": {},
     "outputs": [],
     "prompt_number": 18
    },
    {
     "cell_type": "code",
     "collapsed": false,
     "input": [
      "def achievable_interleaved(m_max_ref, m_max_C, K, p_tilde, p_ref, A, B, m_step_ref=1, m_step_C=1):\n",
      "    ms_ref = np.arange(0, m_max_ref, m_step_ref)\n",
      "    ms_C   = np.arange(0, m_max_C,   m_step_C)\n",
      "    \n",
      "    model = DifferentiableBinomialModel(RandomizedBenchmarkingModel(interleaved=True))\n",
      "    \n",
      "    true_model = np.array([[p_tilde, p_ref, A, B]])\n",
      "    \n",
      "    # Calculate the FI for the reference and p_C measurements separately,\n",
      "    # then add them.\n",
      "    fi = np.zeros((4, 4))\n",
      "    \n",
      "    for ms, reference in [(ms_ref, True), (ms_C, False)]:\n",
      "        expparams = np.empty(ms.shape, dtype=model.expparams_dtype)\n",
      "        expparams['m'] = ms\n",
      "        expparams['n_meas'] = K       \n",
      "        expparams['reference'] = reference\n",
      "        \n",
      "        fi += np.sum(model.fisher_information(true_model, expparams), axis=-1)[:, :, 0]\n",
      "    \n",
      "    return sqrtm(inv(fi))[0, 0]"
     ],
     "language": "python",
     "metadata": {},
     "outputs": [],
     "prompt_number": 19
    },
    {
     "cell_type": "code",
     "collapsed": false,
     "input": [
      "achievable_non_interleaved(40, 40, p(0.9994), 1.5, -.6)"
     ],
     "language": "python",
     "metadata": {},
     "outputs": [
      {
       "metadata": {},
       "output_type": "pyout",
       "prompt_number": 20,
       "text": [
        "(0.00033446613060621893+0j)"
       ]
      }
     ],
     "prompt_number": 20
    },
    {
     "cell_type": "markdown",
     "metadata": {},
     "source": [
      "We can also consider the optimization of the Fisher information over $m$:"
     ]
    },
    {
     "cell_type": "code",
     "collapsed": false,
     "input": [
      "def best_m(p_tilde, p_ref, A, B):\n",
      "    objective = lambda m: (A**2 *m**2 *p_tilde**(-2 + 2*m)*p_ref**(2*m))/((-1 + B + A* p_tilde**m *p_ref**m)* (B + A*p_tilde**m *p_ref**m))\n",
      "    result = minimize(objective,\n",
      "                      100, method='nelder-mead'\n",
      "                      )\n",
      "    return result.x   "
     ],
     "language": "python",
     "metadata": {},
     "outputs": [],
     "prompt_number": 21
    },
    {
     "cell_type": "markdown",
     "metadata": {},
     "source": [
      "Note that the optimal $m$ depends strongly on the value of $B$. For large $B$, the benefits of longer sequences is correspondingly reduced."
     ]
    },
    {
     "cell_type": "code",
     "collapsed": false,
     "input": [
      "figure(figsize=(4,3))\n",
      "As = linspace(0, 0.5, 100)\n",
      "\n",
      "best_ms = []\n",
      "for A in As:\n",
      "    best_ms.append(np.ceil(best_m(p(0.9994), p(1 - 0.0011), A, 0.5)))\n",
      "\n",
      "xlabel('$A$')\n",
      "ylabel(r'$m_{\\mathrm{opt}}(A)$')\n",
      "plot(As, best_ms, 'k-')\n",
      "\n",
      "savefig('best-m-vs-A')"
     ],
     "language": "python",
     "metadata": {},
     "outputs": [
      {
       "metadata": {},
       "output_type": "display_data",
       "png": "[encoded data removed]",
       "text": [
        "<matplotlib.figure.Figure at 0x38b57d0>"
       ]
      }
     ],
     "prompt_number": 22
    },
    {
     "cell_type": "code",
     "collapsed": false,
     "input": [
      "figure(figsize=(4, 3))\n",
      "\n",
      "Bs = linspace(.25, .75, 100)\n",
      "best_ms = [] \n",
      "\n",
      "for B in Bs:\n",
      "    best_ms.append(np.ceil(best_m(p(0.9994), p(1 - 0.0011), 0.25, B)))\n",
      "\n",
      "xlabel('$B$')\n",
      "ylabel(r'$m_{\\mathrm{opt}}(B)$')\n",
      "plot(Bs, best_ms, 'k-')\n",
      "\n",
      "savefig('best-m-vs-B')"
     ],
     "language": "python",
     "metadata": {},
     "outputs": [
      {
       "metadata": {},
       "output_type": "display_data",
       "png": "[encoded data removed]",
       "text": [
        "<matplotlib.figure.Figure at 0x38c8990>"
       ]
      }
     ],
     "prompt_number": 23
    },
    {
     "cell_type": "markdown",
     "metadata": {},
     "source": [
      "As discussed in the main body, as $d \\to \\infty$ then $B \\to 0$ and $A\\to 1$."
     ]
    },
    {
     "cell_type": "code",
     "collapsed": false,
     "input": [
      "ps = 1 - np.logspace(-4, -0.5, 100)\n",
      "m_opts = []\n",
      "\n",
      "for p_val in ps:\n",
      "    m_opts.append(best_m(p_val, p_val, 1, 0))\n",
      "    \n",
      "loglog((1 - ps), np.ceil(m_opts), 'k-')\n",
      "gca().invert_xaxis()\n",
      "xlabel('$1 - F$')\n",
      "ylabel(r'$m_{\\mathrm{opt}}(F)$')\n",
      "\n",
      "savefig('limit-best-m')"
     ],
     "language": "python",
     "metadata": {},
     "outputs": [
      {
       "output_type": "stream",
       "stream": "stderr",
       "text": [
        "-c:2: RuntimeWarning: invalid value encountered in true_divide\n"
       ]
      },
      {
       "metadata": {},
       "output_type": "display_data",
       "png": "[encoded data removed]",
       "text": [
        "<matplotlib.figure.Figure at 0x39eec10>"
       ]
      }
     ],
     "prompt_number": 24
    },
    {
     "cell_type": "heading",
     "level": 2,
     "metadata": {},
     "source": [
      "Risk"
     ]
    },
    {
     "cell_type": "markdown",
     "metadata": {},
     "source": [
      "We want to find the risk in $p$ as a function of $A$, $B$, $m_\\max$ and the number of shots $K$ per sequence length. We will assume linear sampling ($m = 0, 1, 2, \\dots$) for now. Recall that the Bayes risk is defined as the expected loss that an estimator will incur, taken over a prior $\\pi$ for the true parameters and all possible datasets:\n",
      "\\begin{equation}\n",
      "    r(\\hat{p}, \\pi) := \\mathbb{E}_{\\vec{x}\\sim\\pi, D} [(\\hat{p}(D) - p)^2].\n",
      "\\end{equation}\n",
      "We let $r_{\\text{SMC}}$ and $r_{\\text{LSF}}$ be the risks for $\\hat{p}$ being the sequential Monte Carlo and least-squares fit estimators, respectively, and shall let the choice of prior $\\pi$ be fixed."
     ]
    },
    {
     "cell_type": "heading",
     "level": 3,
     "metadata": {},
     "source": [
      "Model and Prior"
     ]
    },
    {
     "cell_type": "markdown",
     "metadata": {},
     "source": [
      "We choose as the prior a normal distribution with mean $\ud835\udf41 = (0.95, 0.05, 0.3, 0.5)$ and covariance $\ud835\udf2e = \\mathrm{diag}(0.01, 0.01, 0.01, 0.01)^2$, postselected to lie within the region of valid parameter vectors $\\boldsymbol{x} = (\\tilde{p}, p_{\\text{ref}}, A, B)$."
     ]
    },
    {
     "cell_type": "code",
     "collapsed": false,
     "input": [
      "risk_model = DifferentiableBinomialModel(RandomizedBenchmarkingModel(interleaved=True))\n",
      "risk_prior = MultivariateNormalDistribution(\n",
      "        mean=np.array([0.95, 0.95, 0.3, 0.5]),\n",
      "        cov=np.diag([0.01, 0.01, 0.01, 0.01])**2\n",
      "    )"
     ],
     "language": "python",
     "metadata": {},
     "outputs": [],
     "prompt_number": 25
    },
    {
     "cell_type": "heading",
     "level": 3,
     "metadata": {},
     "source": [
      "SMC"
     ]
    },
    {
     "cell_type": "markdown",
     "metadata": {},
     "source": [
      "First, we find the risk achieved by sequential Monte Carlo processing. In doing so, we will also calculate the relevant Bayesian Cramer-Rao Bounds (BCRBs) and posterior variances. Ideally, the SMC algorithm should achieve a risk close to that given by the BCRB, and that estimated by the posterior variance.\n",
      "\n",
      "Note that because this function also calculates the BCRBs, it is significantly slower than updating alone."
     ]
    },
    {
     "cell_type": "code",
     "collapsed": false,
     "input": [
      "def risk(refms, Cms, K, n_trials=100, n_particles = 1000):\n",
      "    \"\"\"\n",
      "    Evaluates the risk incurred by using sequential Monte Carlo (SMC)\n",
      "    to estimate benchmarking models.\n",
      "    \n",
      "    Parameters\n",
      "    ----------\n",
      "    refms : list\n",
      "        List of values of $m$ to sample the reference curve at.\n",
      "    Cms : list\n",
      "        List of values of $m$ to sample the interleaved curve at.\n",
      "    K : int\n",
      "        Number of shots to take per sequence length.\n",
      "    n_trials : int\n",
      "        Number of times to run the SMC estimation procedure in\n",
      "        estimating the risk.\n",
      "    n_particles : int\n",
      "        Number of SMC particles to use in estimating the benchmarking model.\n",
      "    \"\"\"\n",
      "    \n",
      "    # Allocate arrays to hold results.\n",
      "    loss     = np.empty((n_trials,))\n",
      "    postvar  = np.empty((n_trials,))\n",
      "    bcrb_pps = np.empty((n_trials,))\n",
      "    \n",
      "    # TODO: fill these arrays!\n",
      "    loss_trs = np.empty((n_trials,))\n",
      "    bcrb_trs = np.empty((n_trials,))\n",
      "    postvar_trs  = np.empty((n_trials,))\n",
      "    \n",
      "    # Make and show a progress bar.\n",
      "    prog = ProgressBar()\n",
      "    prog.show()\n",
      "    \n",
      "    for idx_trial in xrange(n_trials):\n",
      "        true_model = risk_prior.sample()\n",
      "        updater = SMCUpdaterBCRB(risk_model, n_particles, risk_prior, resampler=LiuWestResampler(0.95),\n",
      "                                 initial_bim=None, adaptive=False)\n",
      "         \n",
      "        eps = np.array((\n",
      "            [(m, True, K) for m in refms] +\n",
      "            [(m, False, K) for m in Cms]\n",
      "        ), dtype=risk_model.expparams_dtype)\n",
      "        # Randomizing the order we perform experiments in may help?\n",
      "        # np.random.shuffle(eps)\n",
      "        data = risk_model.simulate_experiment(true_model, eps)[0, 0, :]\n",
      "        \n",
      "        for epvec, datum in zip(eps, data):\n",
      "            updater.update(datum, epvec.reshape((1,)))\n",
      "            \n",
      "        mu = updater.est_mean()\n",
      "        loss[idx_trial] = np.real(mu[0] - true_model[0, 0])**2\n",
      "        loss_trs[idx_trial] = np.real(np.sum((mu - true_model[0])**2))\n",
      "        \n",
      "        prog.value = 100 * ((idx_trial + 1) / n_trials)\n",
      "        \n",
      "        inv_bim = inv(updater.current_bim)\n",
      "        bcrb_pps[idx_trial] = inv_bim[0, 0]\n",
      "        bcrb_trs[idx_trial] = np.trace(inv_bim)\n",
      "        cov = updater.est_covariance_mtx()\n",
      "        postvar[idx_trial] = cov[0, 0]\n",
      "        postvar_trs[idx_trial] = np.trace(cov)\n",
      "        \n",
      "    return {\n",
      "        'smc_risk_p': np.array([np.mean(loss), np.std(loss)]),\n",
      "        'smc_risk_tr': np.array([np.mean(loss_trs), np.std(loss_trs)]),\n",
      "        'smc_median_tr': np.median(loss_trs),\n",
      "        'bcrb_p': np.mean(bcrb_pps),\n",
      "        'postvar_p': np.mean(postvar),\n",
      "        'bcrb_tr': np.mean(bcrb_trs),\n",
      "        'postvar_tr': np.mean(postvar_trs)\n",
      "    }"
     ],
     "language": "python",
     "metadata": {},
     "outputs": [],
     "prompt_number": 26
    },
    {
     "cell_type": "heading",
     "level": 3,
     "metadata": {},
     "source": [
      "Least Squares Fitting"
     ]
    },
    {
     "cell_type": "markdown",
     "metadata": {},
     "source": [
      "In order to do least squares fitting, we must have a trial function. This could in principle be provided by the SMC model above (by way of the likelihood method), but we want to make a comparison to how least squares fitting is used in practice. Thus, we use as a trial function $F_g(m; p, A, B) = A p^m + B$, where $p$ is either $p_{\\text{ref}}$ or $p_{\\bar{\\mathcal{C}}}$ depending on whether we are analyzing referenced data or not.\n",
      "\n",
      "In addition, we will let $F_g = 10^{10}$ for invalid choices of $p$, $A$ and $B$ such that the residuals from actual data are very large, hence constraining the fit to an appropriate region. Note that if we do not do this, it's fairly common to obtain $\\hat{p}_\\text{LSF} \\ge 10^{7}$, as the estimator is the ratio between two fit parameters, and is hence sensitive to cases where the unconstrained fit finds small denominators."
     ]
    },
    {
     "cell_type": "code",
     "collapsed": false,
     "input": [
      "def exp_trial_fn(m, p, A, B):\n",
      "    F_g = A * p**m + B\n",
      "    return np.where(\n",
      "        np.all([\n",
      "            p >= 0, p <= 1,\n",
      "            A >= -1, A <= 1,\n",
      "            B >= 0, B <= 1\n",
      "        ], axis=0),\n",
      "        F_g,\n",
      "        1e10 # Something far from actual data.\n",
      "    )"
     ],
     "language": "python",
     "metadata": {},
     "outputs": [],
     "prompt_number": 27
    },
    {
     "cell_type": "markdown",
     "metadata": {},
     "source": [
      "Once we have a trial function, we now repeatedly generate test data for the LSF estimator, then run the fit on this test data. Since LSFs require an initial test point, we will chose such from our prior, using the same informative prior as was used for the SMC risk evaluation."
     ]
    },
    {
     "cell_type": "code",
     "collapsed": false,
     "input": [
      "def risk_lsf(refms, Cms, K, n_trials=100):\n",
      "    \"\"\"\n",
      "    Evaluates the risk incurred by using least squares fitting (LSF)\n",
      "    to estimate benchmarking models.\n",
      "    \n",
      "    Parameters\n",
      "    ----------\n",
      "    refms : list\n",
      "        List of values of $m$ to sample the reference curve at.\n",
      "    Cms : list\n",
      "        List of values of $m$ to sample the interleaved curve at.\n",
      "    K : int\n",
      "        Number of shots to take per sequence length.\n",
      "    n_trials : int\n",
      "        Number of times to run the SMC estimation procedure in\n",
      "        estimating the risk.\n",
      "    \"\"\"\n",
      "    \n",
      "    loss = np.empty((n_trials,))\n",
      "    loss_tr = np.empty((n_trials,))\n",
      "    \n",
      "    prog = ProgressBar()\n",
      "    prog.show()\n",
      "    \n",
      "    for idx_trial in xrange(n_trials):\n",
      "        true_model = risk_prior.sample()\n",
      "        \n",
      "        # Generate simulated data, using the same model as was used in the SMC risk\n",
      "        # evaluation.\n",
      "        ref_eps = np.array([\n",
      "            (m, True, K) for m in refms\n",
      "        ], dtype=risk_model.expparams_dtype)\n",
      "        C_eps = np.array([\n",
      "            (m, False, K) for m in Cms\n",
      "        ], dtype=risk_model.expparams_dtype)\n",
      "        \n",
      "        ref_data = risk_model.simulate_experiment(true_model, ref_eps)[0, 0, :] / K\n",
      "        C_data = risk_model.simulate_experiment(true_model, C_eps)[0, 0, :] / K\n",
      "        \n",
      "        # Obtain least squares fits to each of the two curves.\n",
      "        p0 = np.real(risk_prior.sample()[0, 1:]) # Another hack...\n",
      "        res = curve_fit(exp_trial_fn, xdata=refms, ydata=ref_data, p0=p0, maxfev=10000)\n",
      "        p_ref, A_ref, B_ref = res[0]\n",
      "        \n",
      "        res = curve_fit(exp_trial_fn, xdata=Cms, ydata=C_data, p0=p0, maxfev=10000)\n",
      "        p_C, A_C, B_C = res[0]\n",
      "        \n",
      "        mu = p_C / p_ref\n",
      "        \n",
      "        prog.value = 100 * ((idx_trial + 1) / n_trials)\n",
      "        \n",
      "        loss[idx_trial] = (mu - true_model[0, 0])**2\n",
      "        loss_tr[idx_trial] = np.sum((np.array([mu, p_ref, (A_ref + A_C) / 2, (B_ref + B_C) / 2]) - true_model[0])**2)\n",
      "        \n",
      "    return {\n",
      "        'lsf_risk_p': np.array([np.mean(loss), np.std(loss)]),\n",
      "        'lsf_risk_tr': np.array([np.mean(loss_tr), np.std(loss_tr)])\n",
      "    }"
     ],
     "language": "python",
     "metadata": {},
     "outputs": [],
     "prompt_number": 28
    },
    {
     "cell_type": "heading",
     "level": 3,
     "metadata": {},
     "source": [
      "Performance vs $K$"
     ]
    },
    {
     "cell_type": "code",
     "collapsed": false,
     "input": [
      "refms = np.arange(1,100,1).astype(int)\n",
      "Cms = np.arange(1,50,1).astype(int)\n",
      "\n",
      "n_trials = 100\n",
      "\n",
      "Ks = np.logspace(0, 5, 4).astype(int)\n",
      "\n",
      "performance = np.zeros(\n",
      "    (Ks.shape[0],),\n",
      "    dtype=[\n",
      "        ('smc_risk_p', '2float'),\n",
      "        ('smc_risk_tr', '2float'),\n",
      "        ('lsf_risk_p', '2float'),\n",
      "        ('lsf_risk_tr', '2float'),\n",
      "        ('smc_median_tr', float),\n",
      "        \n",
      "        ('bcrb_p', float),\n",
      "        ('postvar_p', float),\n",
      "        ('bcrb_tr', float),\n",
      "        ('postvar_tr', float),\n",
      "    ]\n",
      ").view(np.recarray)\n",
      "\n",
      "with warnings.catch_warnings():\n",
      "    warnings.simplefilter('ignore')\n",
      "    for idx_K, K in enumerate(Ks):\n",
      "        print \"K = {}, SMC:\".format(K)\n",
      "        set_fields(performance, idx_K, risk(refms, Cms, K, n_trials=n_trials, n_particles=10000))\n",
      "        clear_output()\n",
      "        \n",
      "        print \"K = {}, LSF:\".format(K)\n",
      "        set_fields(performance, idx_K, risk_lsf(refms, Cms, K, n_trials=n_trials))\n",
      "        clear_output()\n",
      "        "
     ],
     "language": "python",
     "metadata": {},
     "outputs": [],
     "prompt_number": 29
    },
    {
     "cell_type": "code",
     "collapsed": false,
     "input": [
      "figure(figsize=(9, 5))\n",
      "\n",
      "loglog(Ks, performance.bcrb_p, 'k-', linewidth=2, label='Bayesian Cramer-Rao Bound')\n",
      "loglog(Ks, performance.postvar_p, 'bx:', label='Posterior Variance')\n",
      "\n",
      "plot(Ks, performance.smc_risk_p[:, 0], 'bx-', label='SMC Risk')\n",
      "plot(Ks, performance.lsf_risk_p[:, 0], 'rx--', label='LSF Risk')\n",
      "\n",
      "ylabel('Mean squared error')\n",
      "xlabel('Number of Shots per Sequence')\n",
      "\n",
      "# We'll make the legend in the next cell.\n",
      "ax = gca()\n",
      "ax.yaxis.grid(color='gray', linestyle='dotted')\n",
      "\n",
      "savefig('risk-comparison')"
     ],
     "language": "python",
     "metadata": {},
     "outputs": [
      {
       "metadata": {},
       "output_type": "display_data",
       "png": "[encoded data removed]",
       "text": [
        "<matplotlib.figure.Figure at 0x3b4b050>"
       ]
      }
     ],
     "prompt_number": 30
    },
    {
     "cell_type": "code",
     "collapsed": false,
     "input": [
      "figure(figsize=(9, 5))\n",
      "\n",
      "loglog(Ks, performance.bcrb_tr, 'k-', linewidth=2, label='Bayesian Cramer-Rao Bound')\n",
      "loglog(Ks, performance.postvar_tr, 'bx:', label='Posterior Variance')\n",
      "\n",
      "plot(Ks, performance.smc_risk_tr[:, 0], 'bx-', label='SMC Risk')\n",
      "plot(Ks, performance.lsf_risk_tr[:, 0], 'rx--', label='LSF Risk')\n",
      "\n",
      "ylabel('Standard Deviation')\n",
      "xlabel('Number of Shots per Sequence')\n",
      "\n",
      "ax = gca()\n",
      "ax.yaxis.grid(color='gray', linestyle='dotted')\n",
      "\n",
      "savefig('risk-tr-comparison')\n",
      "\n",
      "# Create a second figure for the legend.\n",
      "# We make the second figure way too big, and will pdfcrop it down later.\n",
      "legend_fig = figure(figsize = (20, 1.3))\n",
      "\n",
      "# Produce a legend for the objects in the other figure using the figlegend\n",
      "# function.\n",
      "figlegend(*ax.get_legend_handles_labels(), loc='upper left', ncol=4)\n",
      "legend_fig.savefig(os.path.join(FIGURES_DIR, 'risk-comparison-legend.pdf'), format='pdf')\n",
      "legend_fig.savefig(os.path.join(FIGURES_DIR, 'risk-comparison-legend.svg'), format='svg')"
     ],
     "language": "python",
     "metadata": {},
     "outputs": [
      {
       "metadata": {},
       "output_type": "display_data",
       "png": "[encoded data removed]",
       "text": [
        "<matplotlib.figure.Figure at 0x5257590>"
       ]
      },
      {
       "metadata": {},
       "output_type": "display_data",
       "text": [
        "<matplotlib.figure.Figure at 0x596a1d0>"
       ]
      }
     ],
     "prompt_number": 31
    },
    {
     "cell_type": "heading",
     "level": 3,
     "metadata": {},
     "source": [
      "Performance vs $m_\\max$"
     ]
    },
    {
     "cell_type": "code",
     "collapsed": false,
     "input": [
      "ms = np.logspace(1.5, 3, 4).astype(int)\n",
      "K = 1000\n",
      "n_trials = 100\n",
      "\n",
      "performance_v_m = np.zeros(\n",
      "    (ms.shape[0],),\n",
      "    dtype=[\n",
      "        ('smc_risk_p', '2float'),\n",
      "        ('smc_risk_tr', '2float'),\n",
      "        ('lsf_risk_p', '2float'),\n",
      "        ('lsf_risk_tr', '2float'),\n",
      "        ('smc_median_tr', float),\n",
      "        \n",
      "        ('bcrb_p', float),\n",
      "        ('postvar_p', float),\n",
      "        ('bcrb_tr', float),\n",
      "        ('postvar_tr', float),\n",
      "    ]\n",
      ").view(np.recarray)\n",
      "\n",
      "with warnings.catch_warnings():\n",
      "    warnings.simplefilter('ignore')\n",
      "    for idx_m, m_max in enumerate(ms):\n",
      "        marr = np.arange(1, m_max, 10).astype(int)\n",
      "        \n",
      "        print \"m_max = {}, SMC:\".format(m_max)\n",
      "        set_fields(performance_v_m, idx_m, risk(marr, marr, K, n_trials=n_trials,n_particles=10000))\n",
      "        clear_output()\n",
      "        \n",
      "        print \"m_max = {}, SMC:\".format(m_max)\n",
      "        set_fields(performance_v_m, idx_m, risk_lsf(marr, marr, K, n_trials=n_trials))\n",
      "        clear_output()"
     ],
     "language": "python",
     "metadata": {},
     "outputs": [],
     "prompt_number": 32
    },
    {
     "cell_type": "code",
     "collapsed": false,
     "input": [
      "figure(figsize=(9, 5))\n",
      "xlim(10.0**1.5, 10**3)\n",
      "\n",
      "#loglog(Ks, crbs, label='Cramer-Rao Bound')\n",
      "loglog(ms, performance_v_m.bcrb_tr, 'k-', linewidth=2, label='Bayesian Cramer-Rao Bound')\n",
      "loglog(ms, performance_v_m.postvar_tr, 'bx:', label='Posterior Variance')\n",
      "\n",
      "#errorbar(Ks, risks_smc[:, 0], yerr=risks_smc[:, 1], label='SMC Risk')\n",
      "#errorbar(Ks, risks_lsf[:, 0], yerr=risks_lsf[:, 1], label='LSF Risk')\n",
      "\n",
      "# Error bars don't seem to be working, so switching to ordinary plots for now.\n",
      "#plot(ms, performance_v_m.smc_median_tr[:], 'x-.', color='cyan', label='SMC Median Loss')\n",
      "plot(ms, performance_v_m.smc_risk_tr[:, 0], 'bx-', label='SMC Risk')\n",
      "plot(ms, performance_v_m.lsf_risk_tr[:, 0], 'rx--', label='LSF Risk')\n",
      "\n",
      "ylabel('Standard Deviation')\n",
      "xlabel('Maximum Sequence Length Considered')\n",
      "\n",
      "# We use the same legend as above, so no additional legend here.\n",
      "ax = gca()\n",
      "ax.yaxis.grid(color='gray', linestyle='dotted')\n",
      "\n",
      "savefig('risk-tr-comparison-vs-m-max')"
     ],
     "language": "python",
     "metadata": {},
     "outputs": [
      {
       "metadata": {},
       "output_type": "display_data",
       "png": "[encoded data removed]",
       "text": [
        "<matplotlib.figure.Figure at 0x5269510>"
       ]
      }
     ],
     "prompt_number": 33
    },
    {
     "cell_type": "heading",
     "level": 2,
     "metadata": {},
     "source": [
      "Testing with Physically-Simulated Gates"
     ]
    },
    {
     "cell_type": "markdown",
     "metadata": {},
     "source": [
      "We start by making an initial state and a measurement that both look like $\\eta \\ket{0}\\bra{0} + (1-\\eta)\\ket{1}\\bra{1}$. Note that the ``flatten`` argument ``order='F'`` corresponds to the column-stacking convention."
     ]
    },
    {
     "cell_type": "code",
     "collapsed": false,
     "input": [
      "rho_psi = np.diag(np.array([0.9, 0.1], dtype=complex)).flatten(order='F')\n",
      "E_psi = rho_psi.conj().transpose()"
     ],
     "language": "python",
     "metadata": {},
     "outputs": [],
     "prompt_number": 34
    },
    {
     "cell_type": "markdown",
     "metadata": {},
     "source": [
      "Next, we need to load the gates produced by Holger Haas. These are stored as one MAT-file per gate, so we'll use ``loadmat`` to import them."
     ]
    },
    {
     "cell_type": "code",
     "collapsed": false,
     "input": [
      "gateset_dir = os.path.abspath('../gates/Sim_03_12_1742/')\n",
      "gateset_files = glob.glob(os.path.join(gateset_dir, '*.mat'))"
     ],
     "language": "python",
     "metadata": {},
     "outputs": [],
     "prompt_number": 35
    },
    {
     "cell_type": "code",
     "collapsed": false,
     "input": [
      "# QuaEC uses slightly different names from QuantumUtils`, so we define a mapping here.\n",
      "gateset_namemap = {\n",
      "    'Had': 'H',\n",
      "    'Z90': 'R_pi4',\n",
      "    'Z45': 'T',\n",
      "    'X180': 'X',\n",
      "    'Y180': 'Y',\n",
      "    'Z180': 'Z'\n",
      "}"
     ],
     "language": "python",
     "metadata": {},
     "outputs": [],
     "prompt_number": 36
    },
    {
     "cell_type": "code",
     "collapsed": false,
     "input": [
      "gateset = {\n",
      "    # Extract the name of the gate from strings like \"pulseHad.mat\".\n",
      "    gateset_namemap[re.match('pulse(.*)\\.mat', os.path.split(gateset_file)[1]).groups()[0]]:\n",
      "    # Load the actual file, and grab the supermatrix representation of the actual gate.\n",
      "    loadmat(gateset_file)['S']\n",
      "    for gateset_file in gateset_files\n",
      "}"
     ],
     "language": "python",
     "metadata": {},
     "outputs": [],
     "prompt_number": 37
    },
    {
     "cell_type": "markdown",
     "metadata": {},
     "source": [
      "We add to the gateset a *perfect* identity, since we can implement this gate by simply doing nothing. That is, since everything is single-qubit, we don't have to wait relative to another qubit."
     ]
    },
    {
     "cell_type": "code",
     "collapsed": false,
     "input": [
      "gateset['I'] = np.eye(4, dtype=complex)"
     ],
     "language": "python",
     "metadata": {},
     "outputs": [],
     "prompt_number": 38
    },
    {
     "cell_type": "code",
     "collapsed": false,
     "input": [
      "ideal_simulator = bm.RBPhysicalSimulator(paranoid=True)\n",
      "simulator = bm.RBPhysicalSimulator(gateset, E_psi, rho_psi)"
     ],
     "language": "python",
     "metadata": {},
     "outputs": [],
     "prompt_number": 39
    },
    {
     "cell_type": "code",
     "collapsed": false,
     "input": [
      "np.set_printoptions(precision=4, linewidth=100)"
     ],
     "language": "python",
     "metadata": {},
     "outputs": [],
     "prompt_number": 40
    },
    {
     "cell_type": "code",
     "collapsed": false,
     "input": [
      "gs_true = simulator.interleaved_model_parameters((0, 1))\n",
      "print gs_true\n",
      "best_m(*gs_true)"
     ],
     "language": "python",
     "metadata": {},
     "outputs": [
      {
       "output_type": "stream",
       "stream": "stdout",
       "text": [
        "(0.99833448374511424, 0.99570506108502421, 0.3184575405086596, 0.50120763151836933)\n"
       ]
      },
      {
       "metadata": {},
       "output_type": "pyout",
       "prompt_number": 41,
       "text": [
        "array([ 156.9392])"
       ]
      }
     ],
     "prompt_number": 41
    },
    {
     "cell_type": "markdown",
     "metadata": {},
     "source": [
      "The optimal $m$ found by ``best_m`` agrees roughly with the heuristic that $A p^m + B \\approx 0.5$:"
     ]
    },
    {
     "cell_type": "code",
     "collapsed": false,
     "input": [
      "log2(0.5) / log2(gs_true[0] * gs_true[1])"
     ],
     "language": "python",
     "metadata": {},
     "outputs": [
      {
       "metadata": {},
       "output_type": "pyout",
       "prompt_number": 42,
       "text": [
        "116.08379417858944"
       ]
      }
     ],
     "prompt_number": 42
    },
    {
     "cell_type": "markdown",
     "metadata": {},
     "source": [
      "Now we get a simple \"signal\" out and plot it to make sure everything works. We do so by taking the limit $K \\to \\infty$, such that we get out the exact survival probability for each sequence, then average over sequences. In actual estimation, we will use something much less demanding."
     ]
    },
    {
     "cell_type": "code",
     "collapsed": false,
     "input": [
      "ms = np.arange(2, 600, 20)\n",
      "target = (0, 1) # (identity, X)\n",
      "n_seq_per_m = 20\n",
      "ref_ps = np.array([\n",
      "    np.mean([simulator.p_survival(simulator.random_sequence(m)) for idx in xrange(n_seq_per_m)])\n",
      "    for m in ms\n",
      "])\n",
      "interleaved_ps = np.array([\n",
      "    np.mean([simulator.p_survival(simulator.random_interleaved_sequence(m, target)) for idx in xrange(n_seq_per_m)])\n",
      "    for m in ms\n",
      "])"
     ],
     "language": "python",
     "metadata": {},
     "outputs": [
      {
       "output_type": "stream",
       "stream": "stderr",
       "text": [
        "/usr/lib/python2.7/site-packages/qecc/utils.py:71: UserWarning: Deprecated; see method from_clifford in PauliClass.\n",
        "  warnings.warn(explanation)\n"
       ]
      }
     ],
     "prompt_number": 43
    },
    {
     "cell_type": "code",
     "collapsed": false,
     "input": [
      "figure(figsize=(9,6))\n",
      "\n",
      "p_til, p_ref, A, B = gs_true\n",
      "p_C = p_til * p_ref\n",
      "\n",
      "plot(ms, ref_ps, 'xk', label='Reference Signal', markersize=10)\n",
      "plot(ms, A * p_ref**ms + B, '--k', label='Reference Model')\n",
      "plot(ms, interleaved_ps, '.k', label='Interleaved Signal for $U = X$',  markersize=10)\n",
      "plot(ms, A * p_C**(ms/2) + B, '-k', label='Interleaved Model')\n",
      "legend()\n",
      "xlabel('$m$')\n",
      "ylabel(r'$\\hat{p}(m)$')\n",
      "\n",
      "savefig('example-phys-signal')"
     ],
     "language": "python",
     "metadata": {},
     "outputs": [
      {
       "output_type": "stream",
       "stream": "stderr",
       "text": [
        "/usr/lib64/python2.7/site-packages/numpy/core/numeric.py:321: ComplexWarning: Casting complex values to real discards the imaginary part\n",
        "  return array(a, dtype, copy=False, order=order)\n"
       ]
      },
      {
       "metadata": {},
       "output_type": "display_data",
       "png": "[encoded data removed]",
       "text": [
        "<matplotlib.figure.Figure at 0x3a81e90>"
       ]
      }
     ],
     "prompt_number": 44
    },
    {
     "cell_type": "markdown",
     "metadata": {},
     "source": [
      "Since we now know that the physical simulator works, we are ready to test it with SMC.  First, let us see how \"far away\" the true state is from the prior."
     ]
    },
    {
     "cell_type": "code",
     "collapsed": false,
     "input": [
      "mean = np.array([0.95, 0.95, 0.3, 0.5])\n",
      "cov  = np.diag([0.01, 0.01, 0.01, 0.01])**2\n",
      "print \"The true state is \", np.sqrt(np.dot(mean - gs_true, np.dot(inv(cov),mean - gs_true))),\"sigma from the prior mean.\""
     ],
     "language": "python",
     "metadata": {},
     "outputs": [
      {
       "output_type": "stream",
       "stream": "stdout",
       "text": [
        "The true state is  6.90457392111 sigma from the prior mean.\n"
       ]
      }
     ],
     "prompt_number": 45
    },
    {
     "cell_type": "code",
     "collapsed": false,
     "input": [
      "@np.vectorize\n",
      "def phys_simulate_experiment(expparam_vec):\n",
      "    print '.', \n",
      "    m, ref, n_meas = expparam_vec\n",
      "    if ref:\n",
      "        return np.sum([\n",
      "            simulator.sample_interleaved_sequence(int(m), (0, 1))\n",
      "            for idx in xrange(n_meas)\n",
      "        ])\n",
      "    \n",
      "    else:        \n",
      "        return np.sum([\n",
      "            # Note that the sequence length is defined differently\n",
      "            # for the interleaved and reference cases by a factor of 2.\n",
      "            simulator.sample_random_sequence(2 * int(m))\n",
      "            for idx in xrange(n_meas)\n",
      "        ])\n",
      "    "
     ],
     "language": "python",
     "metadata": {},
     "outputs": [],
     "prompt_number": 46
    },
    {
     "cell_type": "code",
     "collapsed": false,
     "input": [
      "ms_ref = xrange(1, 150) #np.logspace(0, 10, num=20, base=2).astype(int)\n",
      "ms_C   = xrange(2, 150) #np.logspace(0, 10, num=20, base=2).astype(int)\n",
      "K = 400\n",
      "\n",
      "phys_model = BinomialModel(RandomizedBenchmarkingModel(interleaved=True))\n",
      "phys_prior =  MultivariateNormalDistribution(\n",
      "        mean=np.array([0.95, 0.95, 0.3, 0.5]),\n",
      "        cov=np.diag([0.01, 0.01, 0.01, 0.01])**2\n",
      "    )\n",
      "\n",
      "updater = SMCUpdater(\n",
      "    phys_model, 10000, phys_prior,\n",
      "    resampler=LiuWestResampler(0.9)\n",
      ")\n",
      " \n",
      "eps = np.array((\n",
      "    [(m, True, K) for m in ms_ref] +\n",
      "    [(m, False, K) for m in ms_C]\n",
      "), dtype=phys_model.expparams_dtype)\n",
      "\n",
      "print 'Simulating data...\\r',\n",
      "data = phys_simulate_experiment(eps)\n",
      "\n",
      "print 'Performing SMC updates...\\r',\n",
      "for epvec, datum in zip(eps, data):\n",
      "    updater.update(datum, epvec.reshape((1,)))\n"
     ],
     "language": "python",
     "metadata": {},
     "outputs": [
      {
       "output_type": "stream",
       "stream": "stdout",
       "text": [
        "Simulating data...\r",
        ". "
       ]
      },
      {
       "output_type": "stream",
       "stream": "stdout",
       "text": [
        ". "
       ]
      },
      {
       "output_type": "stream",
       "stream": "stdout",
       "text": [
        ". "
       ]
      },
      {
       "output_type": "stream",
       "stream": "stdout",
       "text": [
        ". "
       ]
      },
      {
       "output_type": "stream",
       "stream": "stdout",
       "text": [
        ". "
       ]
      },
      {
       "output_type": "stream",
       "stream": "stdout",
       "text": [
        ". "
       ]
      },
      {
       "output_type": "stream",
       "stream": "stdout",
       "text": [
        ". "
       ]
      },
      {
       "output_type": "stream",
       "stream": "stdout",
       "text": [
        ". "
       ]
      },
      {
       "output_type": "stream",
       "stream": "stdout",
       "text": [
        ". "
       ]
      },
      {
       "output_type": "stream",
       "stream": "stdout",
       "text": [
        ". "
       ]
      },
      {
       "output_type": "stream",
       "stream": "stdout",
       "text": [
        ". "
       ]
      },
      {
       "output_type": "stream",
       "stream": "stdout",
       "text": [
        ". "
       ]
      },
      {
       "output_type": "stream",
       "stream": "stdout",
       "text": [
        ". "
       ]
      },
      {
       "output_type": "stream",
       "stream": "stdout",
       "text": [
        ". "
       ]
      },
      {
       "output_type": "stream",
       "stream": "stdout",
       "text": [
        ". "
       ]
      },
      {
       "output_type": "stream",
       "stream": "stdout",
       "text": [
        ". "
       ]
      },
      {
       "output_type": "stream",
       "stream": "stdout",
       "text": [
        ". "
       ]
      },
      {
       "output_type": "stream",
       "stream": "stdout",
       "text": [
        ". "
       ]
      },
      {
       "output_type": "stream",
       "stream": "stdout",
       "text": [
        ". "
       ]
      },
      {
       "output_type": "stream",
       "stream": "stdout",
       "text": [
        ". "
       ]
      },
      {
       "output_type": "stream",
       "stream": "stdout",
       "text": [
        ". "
       ]
      },
      {
       "output_type": "stream",
       "stream": "stdout",
       "text": [
        ". "
       ]
      },
      {
       "output_type": "stream",
       "stream": "stdout",
       "text": [
        ". "
       ]
      },
      {
       "output_type": "stream",
       "stream": "stdout",
       "text": [
        ". "
       ]
      },
      {
       "output_type": "stream",
       "stream": "stdout",
       "text": [
        ". "
       ]
      },
      {
       "output_type": "stream",
       "stream": "stdout",
       "text": [
        ". "
       ]
      },
      {
       "output_type": "stream",
       "stream": "stdout",
       "text": [
        ". "
       ]
      },
      {
       "output_type": "stream",
       "stream": "stdout",
       "text": [
        ". "
       ]
      },
      {
       "output_type": "stream",
       "stream": "stdout",
       "text": [
        ". "
       ]
      },
      {
       "output_type": "stream",
       "stream": "stdout",
       "text": [
        ". "
       ]
      },
      {
       "output_type": "stream",
       "stream": "stdout",
       "text": [
        ". "
       ]
      },
      {
       "output_type": "stream",
       "stream": "stdout",
       "text": [
        ". "
       ]
      },
      {
       "output_type": "stream",
       "stream": "stdout",
       "text": [
        ". "
       ]
      },
      {
       "output_type": "stream",
       "stream": "stdout",
       "text": [
        ". "
       ]
      },
      {
       "output_type": "stream",
       "stream": "stdout",
       "text": [
        ". "
       ]
      },
      {
       "output_type": "stream",
       "stream": "stdout",
       "text": [
        ". "
       ]
      },
      {
       "output_type": "stream",
       "stream": "stdout",
       "text": [
        ". "
       ]
      },
      {
       "output_type": "stream",
       "stream": "stdout",
       "text": [
        ". "
       ]
      },
      {
       "output_type": "stream",
       "stream": "stdout",
       "text": [
        ". "
       ]
      },
      {
       "output_type": "stream",
       "stream": "stdout",
       "text": [
        ". "
       ]
      },
      {
       "output_type": "stream",
       "stream": "stdout",
       "text": [
        ". "
       ]
      },
      {
       "output_type": "stream",
       "stream": "stdout",
       "text": [
        ". "
       ]
      },
      {
       "output_type": "stream",
       "stream": "stdout",
       "text": [
        ". "
       ]
      },
      {
       "output_type": "stream",
       "stream": "stdout",
       "text": [
        ". "
       ]
      },
      {
       "output_type": "stream",
       "stream": "stdout",
       "text": [
        ". "
       ]
      },
      {
       "output_type": "stream",
       "stream": "stdout",
       "text": [
        ". "
       ]
      },
      {
       "output_type": "stream",
       "stream": "stdout",
       "text": [
        ". "
       ]
      },
      {
       "output_type": "stream",
       "stream": "stdout",
       "text": [
        ". "
       ]
      },
      {
       "output_type": "stream",
       "stream": "stdout",
       "text": [
        ". "
       ]
      },
      {
       "output_type": "stream",
       "stream": "stdout",
       "text": [
        ". "
       ]
      },
      {
       "output_type": "stream",
       "stream": "stdout",
       "text": [
        ". "
       ]
      },
      {
       "output_type": "stream",
       "stream": "stdout",
       "text": [
        ". "
       ]
      },
      {
       "output_type": "stream",
       "stream": "stdout",
       "text": [
        ". "
       ]
      },
      {
       "output_type": "stream",
       "stream": "stdout",
       "text": [
        ". "
       ]
      },
      {
       "output_type": "stream",
       "stream": "stdout",
       "text": [
        ". "
       ]
      },
      {
       "output_type": "stream",
       "stream": "stdout",
       "text": [
        ". "
       ]
      },
      {
       "output_type": "stream",
       "stream": "stdout",
       "text": [
        ". "
       ]
      },
      {
       "output_type": "stream",
       "stream": "stdout",
       "text": [
        ". "
       ]
      },
      {
       "output_type": "stream",
       "stream": "stdout",
       "text": [
        ". "
       ]
      },
      {
       "output_type": "stream",
       "stream": "stdout",
       "text": [
        ". "
       ]
      },
      {
       "output_type": "stream",
       "stream": "stdout",
       "text": [
        ". "
       ]
      },
      {
       "output_type": "stream",
       "stream": "stdout",
       "text": [
        ". "
       ]
      },
      {
       "output_type": "stream",
       "stream": "stdout",
       "text": [
        ". "
       ]
      },
      {
       "output_type": "stream",
       "stream": "stdout",
       "text": [
        ". "
       ]
      },
      {
       "output_type": "stream",
       "stream": "stdout",
       "text": [
        ". "
       ]
      },
      {
       "output_type": "stream",
       "stream": "stdout",
       "text": [
        ". "
       ]
      },
      {
       "output_type": "stream",
       "stream": "stdout",
       "text": [
        ". "
       ]
      },
      {
       "output_type": "stream",
       "stream": "stdout",
       "text": [
        ". "
       ]
      },
      {
       "output_type": "stream",
       "stream": "stdout",
       "text": [
        ". "
       ]
      },
      {
       "output_type": "stream",
       "stream": "stdout",
       "text": [
        ". "
       ]
      },
      {
       "output_type": "stream",
       "stream": "stdout",
       "text": [
        ". "
       ]
      },
      {
       "output_type": "stream",
       "stream": "stdout",
       "text": [
        ". "
       ]
      },
      {
       "output_type": "stream",
       "stream": "stdout",
       "text": [
        ". "
       ]
      },
      {
       "output_type": "stream",
       "stream": "stdout",
       "text": [
        ". "
       ]
      },
      {
       "output_type": "stream",
       "stream": "stdout",
       "text": [
        ". "
       ]
      },
      {
       "output_type": "stream",
       "stream": "stdout",
       "text": [
        ". "
       ]
      },
      {
       "output_type": "stream",
       "stream": "stdout",
       "text": [
        ". "
       ]
      },
      {
       "output_type": "stream",
       "stream": "stdout",
       "text": [
        ". "
       ]
      },
      {
       "output_type": "stream",
       "stream": "stdout",
       "text": [
        ". "
       ]
      },
      {
       "output_type": "stream",
       "stream": "stdout",
       "text": [
        ". "
       ]
      },
      {
       "output_type": "stream",
       "stream": "stdout",
       "text": [
        ". "
       ]
      },
      {
       "output_type": "stream",
       "stream": "stdout",
       "text": [
        ". "
       ]
      },
      {
       "output_type": "stream",
       "stream": "stdout",
       "text": [
        ". "
       ]
      },
      {
       "output_type": "stream",
       "stream": "stdout",
       "text": [
        ". "
       ]
      },
      {
       "output_type": "stream",
       "stream": "stdout",
       "text": [
        ". "
       ]
      },
      {
       "output_type": "stream",
       "stream": "stdout",
       "text": [
        ". "
       ]
      },
      {
       "output_type": "stream",
       "stream": "stdout",
       "text": [
        ". "
       ]
      },
      {
       "output_type": "stream",
       "stream": "stdout",
       "text": [
        ". "
       ]
      },
      {
       "output_type": "stream",
       "stream": "stdout",
       "text": [
        ". "
       ]
      },
      {
       "output_type": "stream",
       "stream": "stdout",
       "text": [
        ". "
       ]
      },
      {
       "output_type": "stream",
       "stream": "stdout",
       "text": [
        ". "
       ]
      },
      {
       "output_type": "stream",
       "stream": "stdout",
       "text": [
        ". "
       ]
      },
      {
       "output_type": "stream",
       "stream": "stdout",
       "text": [
        ". "
       ]
      },
      {
       "output_type": "stream",
       "stream": "stdout",
       "text": [
        ". "
       ]
      },
      {
       "output_type": "stream",
       "stream": "stdout",
       "text": [
        ". "
       ]
      },
      {
       "output_type": "stream",
       "stream": "stdout",
       "text": [
        ". "
       ]
      },
      {
       "output_type": "stream",
       "stream": "stdout",
       "text": [
        ". "
       ]
      },
      {
       "output_type": "stream",
       "stream": "stdout",
       "text": [
        ". "
       ]
      },
      {
       "output_type": "stream",
       "stream": "stdout",
       "text": [
        ". "
       ]
      },
      {
       "output_type": "stream",
       "stream": "stdout",
       "text": [
        ". "
       ]
      },
      {
       "output_type": "stream",
       "stream": "stdout",
       "text": [
        ". "
       ]
      },
      {
       "output_type": "stream",
       "stream": "stdout",
       "text": [
        ". "
       ]
      },
      {
       "output_type": "stream",
       "stream": "stdout",
       "text": [
        ". "
       ]
      },
      {
       "output_type": "stream",
       "stream": "stdout",
       "text": [
        ". "
       ]
      },
      {
       "output_type": "stream",
       "stream": "stdout",
       "text": [
        ". "
       ]
      },
      {
       "output_type": "stream",
       "stream": "stdout",
       "text": [
        ". "
       ]
      },
      {
       "output_type": "stream",
       "stream": "stdout",
       "text": [
        ". "
       ]
      },
      {
       "output_type": "stream",
       "stream": "stdout",
       "text": [
        ". "
       ]
      },
      {
       "output_type": "stream",
       "stream": "stdout",
       "text": [
        ". "
       ]
      },
      {
       "output_type": "stream",
       "stream": "stdout",
       "text": [
        ". "
       ]
      },
      {
       "output_type": "stream",
       "stream": "stdout",
       "text": [
        ". "
       ]
      },
      {
       "output_type": "stream",
       "stream": "stdout",
       "text": [
        ". "
       ]
      },
      {
       "output_type": "stream",
       "stream": "stdout",
       "text": [
        ". "
       ]
      },
      {
       "output_type": "stream",
       "stream": "stdout",
       "text": [
        ". "
       ]
      },
      {
       "output_type": "stream",
       "stream": "stdout",
       "text": [
        ". "
       ]
      },
      {
       "output_type": "stream",
       "stream": "stdout",
       "text": [
        ". "
       ]
      },
      {
       "output_type": "stream",
       "stream": "stdout",
       "text": [
        ". "
       ]
      },
      {
       "output_type": "stream",
       "stream": "stdout",
       "text": [
        ". "
       ]
      },
      {
       "output_type": "stream",
       "stream": "stdout",
       "text": [
        ". "
       ]
      },
      {
       "output_type": "stream",
       "stream": "stdout",
       "text": [
        ". "
       ]
      },
      {
       "output_type": "stream",
       "stream": "stdout",
       "text": [
        ". "
       ]
      },
      {
       "output_type": "stream",
       "stream": "stdout",
       "text": [
        ". "
       ]
      },
      {
       "output_type": "stream",
       "stream": "stdout",
       "text": [
        ". "
       ]
      },
      {
       "output_type": "stream",
       "stream": "stdout",
       "text": [
        ". "
       ]
      },
      {
       "output_type": "stream",
       "stream": "stdout",
       "text": [
        ". "
       ]
      },
      {
       "output_type": "stream",
       "stream": "stdout",
       "text": [
        ". "
       ]
      },
      {
       "output_type": "stream",
       "stream": "stdout",
       "text": [
        ". "
       ]
      },
      {
       "output_type": "stream",
       "stream": "stdout",
       "text": [
        ". "
       ]
      },
      {
       "output_type": "stream",
       "stream": "stdout",
       "text": [
        ". "
       ]
      },
      {
       "output_type": "stream",
       "stream": "stdout",
       "text": [
        ". "
       ]
      },
      {
       "output_type": "stream",
       "stream": "stdout",
       "text": [
        ". "
       ]
      },
      {
       "output_type": "stream",
       "stream": "stdout",
       "text": [
        ". "
       ]
      },
      {
       "output_type": "stream",
       "stream": "stdout",
       "text": [
        ". "
       ]
      },
      {
       "output_type": "stream",
       "stream": "stdout",
       "text": [
        ". "
       ]
      },
      {
       "output_type": "stream",
       "stream": "stdout",
       "text": [
        ". "
       ]
      },
      {
       "output_type": "stream",
       "stream": "stdout",
       "text": [
        ". "
       ]
      },
      {
       "output_type": "stream",
       "stream": "stdout",
       "text": [
        ". "
       ]
      },
      {
       "output_type": "stream",
       "stream": "stdout",
       "text": [
        ". "
       ]
      },
      {
       "output_type": "stream",
       "stream": "stdout",
       "text": [
        ". "
       ]
      },
      {
       "output_type": "stream",
       "stream": "stdout",
       "text": [
        ". "
       ]
      },
      {
       "output_type": "stream",
       "stream": "stdout",
       "text": [
        ". "
       ]
      },
      {
       "output_type": "stream",
       "stream": "stdout",
       "text": [
        ". "
       ]
      },
      {
       "output_type": "stream",
       "stream": "stdout",
       "text": [
        ". "
       ]
      },
      {
       "output_type": "stream",
       "stream": "stdout",
       "text": [
        ". "
       ]
      },
      {
       "output_type": "stream",
       "stream": "stdout",
       "text": [
        ". "
       ]
      },
      {
       "output_type": "stream",
       "stream": "stdout",
       "text": [
        ". "
       ]
      },
      {
       "output_type": "stream",
       "stream": "stdout",
       "text": [
        ". "
       ]
      },
      {
       "output_type": "stream",
       "stream": "stdout",
       "text": [
        ". "
       ]
      },
      {
       "output_type": "stream",
       "stream": "stdout",
       "text": [
        ". "
       ]
      },
      {
       "output_type": "stream",
       "stream": "stdout",
       "text": [
        ". "
       ]
      },
      {
       "output_type": "stream",
       "stream": "stdout",
       "text": [
        ". "
       ]
      },
      {
       "output_type": "stream",
       "stream": "stdout",
       "text": [
        ". "
       ]
      },
      {
       "output_type": "stream",
       "stream": "stdout",
       "text": [
        ". "
       ]
      },
      {
       "output_type": "stream",
       "stream": "stdout",
       "text": [
        ". "
       ]
      },
      {
       "output_type": "stream",
       "stream": "stdout",
       "text": [
        ". "
       ]
      },
      {
       "output_type": "stream",
       "stream": "stdout",
       "text": [
        ". "
       ]
      },
      {
       "output_type": "stream",
       "stream": "stdout",
       "text": [
        ". "
       ]
      },
      {
       "output_type": "stream",
       "stream": "stdout",
       "text": [
        ". "
       ]
      },
      {
       "output_type": "stream",
       "stream": "stdout",
       "text": [
        ". "
       ]
      },
      {
       "output_type": "stream",
       "stream": "stdout",
       "text": [
        ". "
       ]
      },
      {
       "output_type": "stream",
       "stream": "stdout",
       "text": [
        ". "
       ]
      },
      {
       "output_type": "stream",
       "stream": "stdout",
       "text": [
        ". "
       ]
      },
      {
       "output_type": "stream",
       "stream": "stdout",
       "text": [
        ". "
       ]
      },
      {
       "output_type": "stream",
       "stream": "stdout",
       "text": [
        ". "
       ]
      },
      {
       "output_type": "stream",
       "stream": "stdout",
       "text": [
        ". "
       ]
      },
      {
       "output_type": "stream",
       "stream": "stdout",
       "text": [
        ". "
       ]
      },
      {
       "output_type": "stream",
       "stream": "stdout",
       "text": [
        ". "
       ]
      },
      {
       "output_type": "stream",
       "stream": "stdout",
       "text": [
        ". "
       ]
      },
      {
       "output_type": "stream",
       "stream": "stdout",
       "text": [
        ". "
       ]
      },
      {
       "output_type": "stream",
       "stream": "stdout",
       "text": [
        ". "
       ]
      },
      {
       "output_type": "stream",
       "stream": "stdout",
       "text": [
        ". "
       ]
      },
      {
       "output_type": "stream",
       "stream": "stdout",
       "text": [
        ". "
       ]
      },
      {
       "output_type": "stream",
       "stream": "stdout",
       "text": [
        ". "
       ]
      },
      {
       "output_type": "stream",
       "stream": "stdout",
       "text": [
        ". "
       ]
      },
      {
       "output_type": "stream",
       "stream": "stdout",
       "text": [
        ". "
       ]
      },
      {
       "output_type": "stream",
       "stream": "stdout",
       "text": [
        ". "
       ]
      },
      {
       "output_type": "stream",
       "stream": "stdout",
       "text": [
        ". "
       ]
      },
      {
       "output_type": "stream",
       "stream": "stdout",
       "text": [
        ". "
       ]
      },
      {
       "output_type": "stream",
       "stream": "stdout",
       "text": [
        ". "
       ]
      },
      {
       "output_type": "stream",
       "stream": "stdout",
       "text": [
        ". "
       ]
      },
      {
       "output_type": "stream",
       "stream": "stdout",
       "text": [
        ". "
       ]
      },
      {
       "output_type": "stream",
       "stream": "stdout",
       "text": [
        ". "
       ]
      },
      {
       "output_type": "stream",
       "stream": "stdout",
       "text": [
        ". "
       ]
      },
      {
       "output_type": "stream",
       "stream": "stdout",
       "text": [
        ". "
       ]
      },
      {
       "output_type": "stream",
       "stream": "stdout",
       "text": [
        ". "
       ]
      },
      {
       "output_type": "stream",
       "stream": "stdout",
       "text": [
        ". "
       ]
      },
      {
       "output_type": "stream",
       "stream": "stdout",
       "text": [
        ". "
       ]
      },
      {
       "output_type": "stream",
       "stream": "stdout",
       "text": [
        ". "
       ]
      },
      {
       "output_type": "stream",
       "stream": "stdout",
       "text": [
        ". "
       ]
      },
      {
       "output_type": "stream",
       "stream": "stdout",
       "text": [
        ". "
       ]
      },
      {
       "output_type": "stream",
       "stream": "stdout",
       "text": [
        ". "
       ]
      },
      {
       "output_type": "stream",
       "stream": "stdout",
       "text": [
        ". "
       ]
      },
      {
       "output_type": "stream",
       "stream": "stdout",
       "text": [
        ". "
       ]
      },
      {
       "output_type": "stream",
       "stream": "stdout",
       "text": [
        ". "
       ]
      },
      {
       "output_type": "stream",
       "stream": "stdout",
       "text": [
        ". "
       ]
      },
      {
       "output_type": "stream",
       "stream": "stdout",
       "text": [
        ". "
       ]
      },
      {
       "output_type": "stream",
       "stream": "stdout",
       "text": [
        ". "
       ]
      },
      {
       "output_type": "stream",
       "stream": "stdout",
       "text": [
        ". "
       ]
      },
      {
       "output_type": "stream",
       "stream": "stdout",
       "text": [
        ". "
       ]
      },
      {
       "output_type": "stream",
       "stream": "stdout",
       "text": [
        ". "
       ]
      },
      {
       "output_type": "stream",
       "stream": "stdout",
       "text": [
        ". "
       ]
      },
      {
       "output_type": "stream",
       "stream": "stdout",
       "text": [
        ". "
       ]
      },
      {
       "output_type": "stream",
       "stream": "stdout",
       "text": [
        ". "
       ]
      },
      {
       "output_type": "stream",
       "stream": "stdout",
       "text": [
        ". "
       ]
      },
      {
       "output_type": "stream",
       "stream": "stdout",
       "text": [
        ". "
       ]
      },
      {
       "output_type": "stream",
       "stream": "stdout",
       "text": [
        ". "
       ]
      },
      {
       "output_type": "stream",
       "stream": "stdout",
       "text": [
        ". "
       ]
      },
      {
       "output_type": "stream",
       "stream": "stdout",
       "text": [
        ". "
       ]
      },
      {
       "output_type": "stream",
       "stream": "stdout",
       "text": [
        ". "
       ]
      },
      {
       "output_type": "stream",
       "stream": "stdout",
       "text": [
        ". "
       ]
      },
      {
       "output_type": "stream",
       "stream": "stdout",
       "text": [
        ". "
       ]
      },
      {
       "output_type": "stream",
       "stream": "stdout",
       "text": [
        ". "
       ]
      },
      {
       "output_type": "stream",
       "stream": "stdout",
       "text": [
        ". "
       ]
      },
      {
       "output_type": "stream",
       "stream": "stdout",
       "text": [
        ". "
       ]
      },
      {
       "output_type": "stream",
       "stream": "stdout",
       "text": [
        ". "
       ]
      },
      {
       "output_type": "stream",
       "stream": "stdout",
       "text": [
        ". "
       ]
      },
      {
       "output_type": "stream",
       "stream": "stdout",
       "text": [
        ". "
       ]
      },
      {
       "output_type": "stream",
       "stream": "stdout",
       "text": [
        ". "
       ]
      },
      {
       "output_type": "stream",
       "stream": "stdout",
       "text": [
        ". "
       ]
      },
      {
       "output_type": "stream",
       "stream": "stdout",
       "text": [
        ". "
       ]
      },
      {
       "output_type": "stream",
       "stream": "stdout",
       "text": [
        ". "
       ]
      },
      {
       "output_type": "stream",
       "stream": "stdout",
       "text": [
        ". "
       ]
      },
      {
       "output_type": "stream",
       "stream": "stdout",
       "text": [
        ". "
       ]
      },
      {
       "output_type": "stream",
       "stream": "stdout",
       "text": [
        ". "
       ]
      },
      {
       "output_type": "stream",
       "stream": "stdout",
       "text": [
        ". "
       ]
      },
      {
       "output_type": "stream",
       "stream": "stdout",
       "text": [
        ". "
       ]
      },
      {
       "output_type": "stream",
       "stream": "stdout",
       "text": [
        ". "
       ]
      },
      {
       "output_type": "stream",
       "stream": "stdout",
       "text": [
        ". "
       ]
      },
      {
       "output_type": "stream",
       "stream": "stdout",
       "text": [
        ". "
       ]
      },
      {
       "output_type": "stream",
       "stream": "stdout",
       "text": [
        ". "
       ]
      },
      {
       "output_type": "stream",
       "stream": "stdout",
       "text": [
        ". "
       ]
      },
      {
       "output_type": "stream",
       "stream": "stdout",
       "text": [
        ". "
       ]
      },
      {
       "output_type": "stream",
       "stream": "stdout",
       "text": [
        ". "
       ]
      },
      {
       "output_type": "stream",
       "stream": "stdout",
       "text": [
        ". "
       ]
      },
      {
       "output_type": "stream",
       "stream": "stdout",
       "text": [
        ". "
       ]
      },
      {
       "output_type": "stream",
       "stream": "stdout",
       "text": [
        ". "
       ]
      },
      {
       "output_type": "stream",
       "stream": "stdout",
       "text": [
        ". "
       ]
      },
      {
       "output_type": "stream",
       "stream": "stdout",
       "text": [
        ". "
       ]
      },
      {
       "output_type": "stream",
       "stream": "stdout",
       "text": [
        ". "
       ]
      },
      {
       "output_type": "stream",
       "stream": "stdout",
       "text": [
        ". "
       ]
      },
      {
       "output_type": "stream",
       "stream": "stdout",
       "text": [
        ". "
       ]
      },
      {
       "output_type": "stream",
       "stream": "stdout",
       "text": [
        ". "
       ]
      },
      {
       "output_type": "stream",
       "stream": "stdout",
       "text": [
        ". "
       ]
      },
      {
       "output_type": "stream",
       "stream": "stdout",
       "text": [
        ". "
       ]
      },
      {
       "output_type": "stream",
       "stream": "stdout",
       "text": [
        ". "
       ]
      },
      {
       "output_type": "stream",
       "stream": "stdout",
       "text": [
        ". "
       ]
      },
      {
       "output_type": "stream",
       "stream": "stdout",
       "text": [
        ". "
       ]
      },
      {
       "output_type": "stream",
       "stream": "stdout",
       "text": [
        ". "
       ]
      },
      {
       "output_type": "stream",
       "stream": "stdout",
       "text": [
        ". "
       ]
      },
      {
       "output_type": "stream",
       "stream": "stdout",
       "text": [
        ". "
       ]
      },
      {
       "output_type": "stream",
       "stream": "stdout",
       "text": [
        ". "
       ]
      },
      {
       "output_type": "stream",
       "stream": "stdout",
       "text": [
        ". "
       ]
      },
      {
       "output_type": "stream",
       "stream": "stdout",
       "text": [
        ". "
       ]
      },
      {
       "output_type": "stream",
       "stream": "stdout",
       "text": [
        ". "
       ]
      },
      {
       "output_type": "stream",
       "stream": "stdout",
       "text": [
        ". "
       ]
      },
      {
       "output_type": "stream",
       "stream": "stdout",
       "text": [
        ". "
       ]
      },
      {
       "output_type": "stream",
       "stream": "stdout",
       "text": [
        ". "
       ]
      },
      {
       "output_type": "stream",
       "stream": "stdout",
       "text": [
        ". "
       ]
      },
      {
       "output_type": "stream",
       "stream": "stdout",
       "text": [
        ". "
       ]
      },
      {
       "output_type": "stream",
       "stream": "stdout",
       "text": [
        ". "
       ]
      },
      {
       "output_type": "stream",
       "stream": "stdout",
       "text": [
        ". "
       ]
      },
      {
       "output_type": "stream",
       "stream": "stdout",
       "text": [
        ". "
       ]
      },
      {
       "output_type": "stream",
       "stream": "stdout",
       "text": [
        ". "
       ]
      },
      {
       "output_type": "stream",
       "stream": "stdout",
       "text": [
        ". "
       ]
      },
      {
       "output_type": "stream",
       "stream": "stdout",
       "text": [
        ". "
       ]
      },
      {
       "output_type": "stream",
       "stream": "stdout",
       "text": [
        ". "
       ]
      },
      {
       "output_type": "stream",
       "stream": "stdout",
       "text": [
        ". "
       ]
      },
      {
       "output_type": "stream",
       "stream": "stdout",
       "text": [
        ". "
       ]
      },
      {
       "output_type": "stream",
       "stream": "stdout",
       "text": [
        ". "
       ]
      },
      {
       "output_type": "stream",
       "stream": "stdout",
       "text": [
        ". "
       ]
      },
      {
       "output_type": "stream",
       "stream": "stdout",
       "text": [
        ". "
       ]
      },
      {
       "output_type": "stream",
       "stream": "stdout",
       "text": [
        ". "
       ]
      },
      {
       "output_type": "stream",
       "stream": "stdout",
       "text": [
        ". "
       ]
      },
      {
       "output_type": "stream",
       "stream": "stdout",
       "text": [
        ". "
       ]
      },
      {
       "output_type": "stream",
       "stream": "stdout",
       "text": [
        ". "
       ]
      },
      {
       "output_type": "stream",
       "stream": "stdout",
       "text": [
        ". "
       ]
      },
      {
       "output_type": "stream",
       "stream": "stdout",
       "text": [
        ". "
       ]
      },
      {
       "output_type": "stream",
       "stream": "stdout",
       "text": [
        ". "
       ]
      },
      {
       "output_type": "stream",
       "stream": "stdout",
       "text": [
        ". "
       ]
      },
      {
       "output_type": "stream",
       "stream": "stdout",
       "text": [
        ". "
       ]
      },
      {
       "output_type": "stream",
       "stream": "stdout",
       "text": [
        ". "
       ]
      },
      {
       "output_type": "stream",
       "stream": "stdout",
       "text": [
        ". "
       ]
      },
      {
       "output_type": "stream",
       "stream": "stdout",
       "text": [
        ". "
       ]
      },
      {
       "output_type": "stream",
       "stream": "stdout",
       "text": [
        ". "
       ]
      },
      {
       "output_type": "stream",
       "stream": "stdout",
       "text": [
        ". "
       ]
      },
      {
       "output_type": "stream",
       "stream": "stdout",
       "text": [
        ". "
       ]
      },
      {
       "output_type": "stream",
       "stream": "stdout",
       "text": [
        ". "
       ]
      },
      {
       "output_type": "stream",
       "stream": "stdout",
       "text": [
        ". "
       ]
      },
      {
       "output_type": "stream",
       "stream": "stdout",
       "text": [
        ". "
       ]
      },
      {
       "output_type": "stream",
       "stream": "stdout",
       "text": [
        ". "
       ]
      },
      {
       "output_type": "stream",
       "stream": "stdout",
       "text": [
        ". "
       ]
      },
      {
       "output_type": "stream",
       "stream": "stdout",
       "text": [
        ". "
       ]
      },
      {
       "output_type": "stream",
       "stream": "stdout",
       "text": [
        ". "
       ]
      },
      {
       "output_type": "stream",
       "stream": "stdout",
       "text": [
        ". "
       ]
      },
      {
       "output_type": "stream",
       "stream": "stdout",
       "text": [
        ". "
       ]
      },
      {
       "output_type": "stream",
       "stream": "stdout",
       "text": [
        ". "
       ]
      },
      {
       "output_type": "stream",
       "stream": "stdout",
       "text": [
        ". "
       ]
      },
      {
       "output_type": "stream",
       "stream": "stdout",
       "text": [
        ". "
       ]
      },
      {
       "output_type": "stream",
       "stream": "stdout",
       "text": [
        "Performing SMC updates...\r"
       ]
      }
     ],
     "prompt_number": 47
    },
    {
     "cell_type": "code",
     "collapsed": false,
     "input": [
      "print 'Performing LSF...\\t',\n",
      "ref_data = data[:len(ms_ref)] / K\n",
      "C_data = data[len(ms_ref):] / K\n",
      "\n",
      "p0 = np.real(phys_prior.sample()[0, 1:]) # Another hack...\n",
      "res = curve_fit(exp_trial_fn, xdata=ms_ref, ydata=ref_data, p0=p0, maxfev=10000)\n",
      "p_ref, A_ref, B_ref = res[0]\n",
      "\n",
      "res = curve_fit(exp_trial_fn, xdata=ms_C, ydata=C_data, p0=p0, maxfev=10000)\n",
      "p_C, A_C, B_C = res[0]\n",
      "\n",
      "lsf_estimate = np.array([p_C / p_ref, p_ref, (A_ref + A_C) / 2.0, (B_ref + B_C) / 2.0])"
     ],
     "language": "python",
     "metadata": {},
     "outputs": [
      {
       "output_type": "stream",
       "stream": "stdout",
       "text": [
        "Performing LSF...\t"
       ]
      }
     ],
     "prompt_number": 48
    },
    {
     "cell_type": "code",
     "collapsed": false,
     "input": [
      "phys_table = r\"\"\"\n",
      "    \\begin{{array}}{{l|cccc}}\n",
      "        & \\tilde{{p}} & p_{{\\text{{ref}}}} & A_0 & B_0 \\\\\n",
      "        \\hline\n",
      "        \\text{{True}} & {true[0]:.4f} & {true[1]:.4f} & {true[2]:.4f} & {true[3]:.4f} \\\\\n",
      "        \\text{{SMC Estimate}} & {smc_mean[0]:.4f} & {smc_mean[1]:.4f} & {smc_mean[2]:.4f} & {smc_mean[3]:.4f} \\\\\n",
      "        \\text{{LSF Estimate}} & {lsf_est[0]:.4f} & {lsf_est[1]:.4f} & {lsf_est[2]:.4f} & {lsf_est[3]:.4f} \\\\\n",
      "        \\hline\n",
      "        \\text{{SMC Error}}    & {smc_error[0]:.4f} & {smc_error[1]:.4f} & {smc_error[2]:.4f} & {smc_error[3]:.4f} \\\\\n",
      "        \\text{{LSF Error}} & {lsf_error[0]:.4f} & {lsf_error[1]:.4f} & {lsf_error[2]:.4f} & {lsf_error[3]:.4f}\n",
      "    \\end{{array}}\n",
      "\"\"\".format(\n",
      "    true=gs_true,\n",
      "    smc_mean=updater.est_mean(),\n",
      "    smc_stddev=np.real(np.diag(sqrtm(updater.est_covariance_mtx()))),\n",
      "    smc_error=np.abs(updater.est_mean() - gs_true),\n",
      "    lsf_est=lsf_estimate,\n",
      "    lsf_error=np.abs(lsf_estimate - gs_true)\n",
      ")\n",
      "\n",
      "display(Latex(phys_table))"
     ],
     "language": "python",
     "metadata": {},
     "outputs": [
      {
       "latex": [
        "\n",
        "    \\begin{array}{l|cccc}\n",
        "        & \\tilde{p} & p_{\\text{ref}} & A_0 & B_0 \\\\\n",
        "        \\hline\n",
        "        \\text{True} & 0.9983 & 0.9957 & 0.3185 & 0.5012 \\\\\n",
        "        \\text{SMC Estimate} & 0.9940 & 0.9968 & 0.3071 & 0.5134 \\\\\n",
        "        \\text{LSF Estimate} & 0.9947 & 0.9972 & 0.3369 & 0.4820 \\\\\n",
        "        \\hline\n",
        "        \\text{SMC Error}    & 0.0043 & 0.0011 & 0.0113 & 0.0122 \\\\\n",
        "        \\text{LSF Error} & 0.0036 & 0.0015 & 0.0184 & 0.0192\n",
        "    \\end{array}\n"
       ],
       "metadata": {},
       "output_type": "display_data",
       "text": [
        "<IPython.core.display.Latex at 0x3a9bad0>"
       ]
      }
     ],
     "prompt_number": 49
    },
    {
     "cell_type": "code",
     "collapsed": false,
     "input": [
      "figure(figsize=(9, 6))\n",
      "plot(ms_ref, data[:len(ms_ref)] / K, 'k--', label='Reference')\n",
      "plot(ms_C, data[len(ms_ref):] / K, label='Interleaved')\n",
      "legend(loc='lower left')\n",
      "\n",
      "xlabel('$m$')\n",
      "ylabel('Number of survivals')\n",
      "savefig('phys-gate-final-data')"
     ],
     "language": "python",
     "metadata": {},
     "outputs": [
      {
       "metadata": {},
       "output_type": "display_data",
       "png": "[encoded data removed]",
       "text": [
        "<matplotlib.figure.Figure at 0x3c9e450>"
       ]
      }
     ],
     "prompt_number": 50
    },
    {
     "cell_type": "code",
     "collapsed": false,
     "input": [
      "print phys_table"
     ],
     "language": "python",
     "metadata": {},
     "outputs": [
      {
       "output_type": "stream",
       "stream": "stdout",
       "text": [
        "\n",
        "    \\begin{array}{l|cccc}\n",
        "        & \\tilde{p} & p_{\\text{ref}} & A_0 & B_0 \\\\\n",
        "        \\hline\n",
        "        \\text{True} & 0.9983 & 0.9957 & 0.3185 & 0.5012 \\\\\n",
        "        \\text{SMC Estimate} & 0.9940 & 0.9968 & 0.3071 & 0.5134 \\\\\n",
        "        \\text{LSF Estimate} & 0.9947 & 0.9972 & 0.3369 & 0.4820 \\\\\n",
        "        \\hline\n",
        "        \\text{SMC Error}    & 0.0043 & 0.0011 & 0.0113 & 0.0122 \\\\\n",
        "        \\text{LSF Error} & 0.0036 & 0.0015 & 0.0184 & 0.0192\n",
        "    \\end{array}\n",
        "\n"
       ]
      }
     ],
     "prompt_number": 51
    }
   ],
   "metadata": {}
  }
 ]
}